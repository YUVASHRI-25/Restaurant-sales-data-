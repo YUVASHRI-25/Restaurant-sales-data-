{
 "cells": [
  {
   "cell_type": "code",
   "execution_count": 2,
   "id": "35ead0fa",
   "metadata": {},
   "outputs": [
    {
     "data": {
      "text/html": [
       "<div>\n",
       "<style scoped>\n",
       "    .dataframe tbody tr th:only-of-type {\n",
       "        vertical-align: middle;\n",
       "    }\n",
       "\n",
       "    .dataframe tbody tr th {\n",
       "        vertical-align: top;\n",
       "    }\n",
       "\n",
       "    .dataframe thead th {\n",
       "        text-align: right;\n",
       "    }\n",
       "</style>\n",
       "<table border=\"1\" class=\"dataframe\">\n",
       "  <thead>\n",
       "    <tr style=\"text-align: right;\">\n",
       "      <th></th>\n",
       "      <th>Order ID</th>\n",
       "      <th>Date</th>\n",
       "      <th>Product</th>\n",
       "      <th>Price</th>\n",
       "      <th>Quantity</th>\n",
       "      <th>Purchase Type</th>\n",
       "      <th>Payment Method</th>\n",
       "      <th>Manager</th>\n",
       "      <th>City</th>\n",
       "    </tr>\n",
       "  </thead>\n",
       "  <tbody>\n",
       "    <tr>\n",
       "      <th>0</th>\n",
       "      <td>10452</td>\n",
       "      <td>07-11-2022</td>\n",
       "      <td>Fries</td>\n",
       "      <td>3.49</td>\n",
       "      <td>573.07</td>\n",
       "      <td>Online</td>\n",
       "      <td>Gift Card</td>\n",
       "      <td>Tom      Jackson</td>\n",
       "      <td>London</td>\n",
       "    </tr>\n",
       "    <tr>\n",
       "      <th>1</th>\n",
       "      <td>10453</td>\n",
       "      <td>07-11-2022</td>\n",
       "      <td>Beverages</td>\n",
       "      <td>2.95</td>\n",
       "      <td>745.76</td>\n",
       "      <td>Online</td>\n",
       "      <td>Gift Card</td>\n",
       "      <td>Pablo Perez</td>\n",
       "      <td>Madrid</td>\n",
       "    </tr>\n",
       "    <tr>\n",
       "      <th>2</th>\n",
       "      <td>10454</td>\n",
       "      <td>07-11-2022</td>\n",
       "      <td>Sides &amp; Other</td>\n",
       "      <td>4.99</td>\n",
       "      <td>200.40</td>\n",
       "      <td>In-store</td>\n",
       "      <td>Gift Card</td>\n",
       "      <td>Joao    Silva</td>\n",
       "      <td>Lisbon</td>\n",
       "    </tr>\n",
       "    <tr>\n",
       "      <th>3</th>\n",
       "      <td>10455</td>\n",
       "      <td>08-11-2022</td>\n",
       "      <td>Burgers</td>\n",
       "      <td>12.99</td>\n",
       "      <td>569.67</td>\n",
       "      <td>In-store</td>\n",
       "      <td>Credit Card</td>\n",
       "      <td>Walter Muller</td>\n",
       "      <td>Berlin</td>\n",
       "    </tr>\n",
       "    <tr>\n",
       "      <th>4</th>\n",
       "      <td>10456</td>\n",
       "      <td>08-11-2022</td>\n",
       "      <td>Chicken Sandwiches</td>\n",
       "      <td>9.95</td>\n",
       "      <td>201.01</td>\n",
       "      <td>In-store</td>\n",
       "      <td>Credit Card</td>\n",
       "      <td>Walter Muller</td>\n",
       "      <td>Berlin</td>\n",
       "    </tr>\n",
       "    <tr>\n",
       "      <th>...</th>\n",
       "      <td>...</td>\n",
       "      <td>...</td>\n",
       "      <td>...</td>\n",
       "      <td>...</td>\n",
       "      <td>...</td>\n",
       "      <td>...</td>\n",
       "      <td>...</td>\n",
       "      <td>...</td>\n",
       "      <td>...</td>\n",
       "    </tr>\n",
       "    <tr>\n",
       "      <th>249</th>\n",
       "      <td>10709</td>\n",
       "      <td>28-12-2022</td>\n",
       "      <td>Sides &amp; Other</td>\n",
       "      <td>4.99</td>\n",
       "      <td>200.40</td>\n",
       "      <td>Drive-thru</td>\n",
       "      <td>Gift Card</td>\n",
       "      <td>Walter Muller</td>\n",
       "      <td>Berlin</td>\n",
       "    </tr>\n",
       "    <tr>\n",
       "      <th>250</th>\n",
       "      <td>10710</td>\n",
       "      <td>29-12-2022</td>\n",
       "      <td>Burgers</td>\n",
       "      <td>12.99</td>\n",
       "      <td>754.43</td>\n",
       "      <td>Drive-thru</td>\n",
       "      <td>Gift Card</td>\n",
       "      <td>Walter Muller</td>\n",
       "      <td>Berlin</td>\n",
       "    </tr>\n",
       "    <tr>\n",
       "      <th>251</th>\n",
       "      <td>10711</td>\n",
       "      <td>29-12-2022</td>\n",
       "      <td>Chicken Sandwiches</td>\n",
       "      <td>9.95</td>\n",
       "      <td>281.41</td>\n",
       "      <td>Drive-thru</td>\n",
       "      <td>Gift Card</td>\n",
       "      <td>Walter Muller</td>\n",
       "      <td>Berlin</td>\n",
       "    </tr>\n",
       "    <tr>\n",
       "      <th>252</th>\n",
       "      <td>10712</td>\n",
       "      <td>29-12-2022</td>\n",
       "      <td>Fries</td>\n",
       "      <td>3.49</td>\n",
       "      <td>630.37</td>\n",
       "      <td>Drive-thru</td>\n",
       "      <td>Gift Card</td>\n",
       "      <td>Walter Muller</td>\n",
       "      <td>Berlin</td>\n",
       "    </tr>\n",
       "    <tr>\n",
       "      <th>253</th>\n",
       "      <td>10713</td>\n",
       "      <td>29-12-2022</td>\n",
       "      <td>Beverages</td>\n",
       "      <td>2.95</td>\n",
       "      <td>677.97</td>\n",
       "      <td>Drive-thru</td>\n",
       "      <td>Gift Card</td>\n",
       "      <td>Walter Muller</td>\n",
       "      <td>Berlin</td>\n",
       "    </tr>\n",
       "  </tbody>\n",
       "</table>\n",
       "<p>254 rows × 9 columns</p>\n",
       "</div>"
      ],
      "text/plain": [
       "     Order ID        Date             Product  Price  Quantity Purchase Type  \\\n",
       "0       10452  07-11-2022               Fries   3.49    573.07       Online    \n",
       "1       10453  07-11-2022           Beverages   2.95    745.76       Online    \n",
       "2       10454  07-11-2022       Sides & Other   4.99    200.40     In-store    \n",
       "3       10455  08-11-2022             Burgers  12.99    569.67     In-store    \n",
       "4       10456  08-11-2022  Chicken Sandwiches   9.95    201.01     In-store    \n",
       "..        ...         ...                 ...    ...       ...           ...   \n",
       "249     10709  28-12-2022       Sides & Other   4.99    200.40   Drive-thru    \n",
       "250     10710  29-12-2022             Burgers  12.99    754.43   Drive-thru    \n",
       "251     10711  29-12-2022  Chicken Sandwiches   9.95    281.41   Drive-thru    \n",
       "252     10712  29-12-2022               Fries   3.49    630.37   Drive-thru    \n",
       "253     10713  29-12-2022           Beverages   2.95    677.97   Drive-thru    \n",
       "\n",
       "    Payment Method             Manager    City  \n",
       "0        Gift Card    Tom      Jackson  London  \n",
       "1        Gift Card         Pablo Perez  Madrid  \n",
       "2        Gift Card       Joao    Silva  Lisbon  \n",
       "3      Credit Card       Walter Muller  Berlin  \n",
       "4      Credit Card       Walter Muller  Berlin  \n",
       "..             ...                 ...     ...  \n",
       "249      Gift Card       Walter Muller  Berlin  \n",
       "250      Gift Card       Walter Muller  Berlin  \n",
       "251      Gift Card       Walter Muller  Berlin  \n",
       "252      Gift Card       Walter Muller  Berlin  \n",
       "253      Gift Card       Walter Muller  Berlin  \n",
       "\n",
       "[254 rows x 9 columns]"
      ]
     },
     "execution_count": 2,
     "metadata": {},
     "output_type": "execute_result"
    }
   ],
   "source": [
    "import pandas as pd \n",
    "import numpy as np \n",
    "import matplotlib.pyplot as plt \n",
    "import seaborn as sns \n",
    "df=pd.read_csv('E:/PYTHON/DAY 3 project 3/9. Sales-Data-Analysis.csv')\n",
    "df\n"
   ]
  },
  {
   "cell_type": "code",
   "execution_count": 3,
   "id": "f4be0625",
   "metadata": {},
   "outputs": [
    {
     "name": "stdout",
     "output_type": "stream",
     "text": [
      "<class 'pandas.core.frame.DataFrame'>\n",
      "RangeIndex: 254 entries, 0 to 253\n",
      "Data columns (total 9 columns):\n",
      " #   Column          Non-Null Count  Dtype  \n",
      "---  ------          --------------  -----  \n",
      " 0   Order ID        254 non-null    int64  \n",
      " 1   Date            254 non-null    object \n",
      " 2   Product         254 non-null    object \n",
      " 3   Price           254 non-null    float64\n",
      " 4   Quantity        254 non-null    float64\n",
      " 5   Purchase Type   254 non-null    object \n",
      " 6   Payment Method  254 non-null    object \n",
      " 7   Manager         254 non-null    object \n",
      " 8   City            254 non-null    object \n",
      "dtypes: float64(2), int64(1), object(6)\n",
      "memory usage: 18.0+ KB\n"
     ]
    }
   ],
   "source": [
    "df.info()"
   ]
  },
  {
   "cell_type": "code",
   "execution_count": 4,
   "id": "ce9994f6",
   "metadata": {},
   "outputs": [
    {
     "name": "stdout",
     "output_type": "stream",
     "text": [
      "(254, 9)\n"
     ]
    }
   ],
   "source": [
    "df.shape\n",
    "print(df.shape)\n",
    "\n"
   ]
  },
  {
   "cell_type": "code",
   "execution_count": 5,
   "id": "2301cca0",
   "metadata": {},
   "outputs": [
    {
     "data": {
      "text/plain": [
       "Order ID          0\n",
       "Date              0\n",
       "Product           0\n",
       "Price             0\n",
       "Quantity          0\n",
       "Purchase Type     0\n",
       "Payment Method    0\n",
       "Manager           0\n",
       "City              0\n",
       "dtype: int64"
      ]
     },
     "execution_count": 5,
     "metadata": {},
     "output_type": "execute_result"
    }
   ],
   "source": [
    "df.isnull().sum()\n"
   ]
  },
  {
   "cell_type": "code",
   "execution_count": 6,
   "id": "eb85d4da",
   "metadata": {},
   "outputs": [
    {
     "data": {
      "text/plain": [
       "np.int64(0)"
      ]
     },
     "execution_count": 6,
     "metadata": {},
     "output_type": "execute_result"
    }
   ],
   "source": [
    "df.duplicated().sum()\n"
   ]
  },
  {
   "cell_type": "code",
   "execution_count": 7,
   "id": "8f3d4159",
   "metadata": {},
   "outputs": [
    {
     "data": {
      "text/plain": [
       "Order ID            int64\n",
       "Date               object\n",
       "Product            object\n",
       "Price             float64\n",
       "Quantity          float64\n",
       "Purchase Type      object\n",
       "Payment Method     object\n",
       "Manager            object\n",
       "City               object\n",
       "dtype: object"
      ]
     },
     "execution_count": 7,
     "metadata": {},
     "output_type": "execute_result"
    }
   ],
   "source": [
    "df.dtypes\n"
   ]
  },
  {
   "cell_type": "code",
   "execution_count": 8,
   "id": "3b4eb080",
   "metadata": {},
   "outputs": [
    {
     "data": {
      "text/plain": [
       "Index(['Order ID', 'Date', 'Product', 'Price', 'Quantity', 'Purchase Type',\n",
       "       'Payment Method', 'Manager', 'City'],\n",
       "      dtype='object')"
      ]
     },
     "execution_count": 8,
     "metadata": {},
     "output_type": "execute_result"
    }
   ],
   "source": [
    "df.columns"
   ]
  },
  {
   "cell_type": "code",
   "execution_count": 9,
   "id": "ad9bbed2",
   "metadata": {},
   "outputs": [
    {
     "data": {
      "text/html": [
       "<div>\n",
       "<style scoped>\n",
       "    .dataframe tbody tr th:only-of-type {\n",
       "        vertical-align: middle;\n",
       "    }\n",
       "\n",
       "    .dataframe tbody tr th {\n",
       "        vertical-align: top;\n",
       "    }\n",
       "\n",
       "    .dataframe thead th {\n",
       "        text-align: right;\n",
       "    }\n",
       "</style>\n",
       "<table border=\"1\" class=\"dataframe\">\n",
       "  <thead>\n",
       "    <tr style=\"text-align: right;\">\n",
       "      <th></th>\n",
       "      <th>Order ID</th>\n",
       "      <th>Price</th>\n",
       "      <th>Quantity</th>\n",
       "    </tr>\n",
       "  </thead>\n",
       "  <tbody>\n",
       "    <tr>\n",
       "      <th>count</th>\n",
       "      <td>254.000000</td>\n",
       "      <td>254.000000</td>\n",
       "      <td>254.000000</td>\n",
       "    </tr>\n",
       "    <tr>\n",
       "      <th>mean</th>\n",
       "      <td>10584.133858</td>\n",
       "      <td>7.102323</td>\n",
       "      <td>460.611457</td>\n",
       "    </tr>\n",
       "    <tr>\n",
       "      <th>std</th>\n",
       "      <td>75.889181</td>\n",
       "      <td>4.341855</td>\n",
       "      <td>214.888699</td>\n",
       "    </tr>\n",
       "    <tr>\n",
       "      <th>min</th>\n",
       "      <td>10452.000000</td>\n",
       "      <td>2.950000</td>\n",
       "      <td>200.400000</td>\n",
       "    </tr>\n",
       "    <tr>\n",
       "      <th>25%</th>\n",
       "      <td>10520.250000</td>\n",
       "      <td>3.490000</td>\n",
       "      <td>201.010000</td>\n",
       "    </tr>\n",
       "    <tr>\n",
       "      <th>50%</th>\n",
       "      <td>10583.500000</td>\n",
       "      <td>4.990000</td>\n",
       "      <td>538.880000</td>\n",
       "    </tr>\n",
       "    <tr>\n",
       "      <th>75%</th>\n",
       "      <td>10649.750000</td>\n",
       "      <td>9.950000</td>\n",
       "      <td>677.440000</td>\n",
       "    </tr>\n",
       "    <tr>\n",
       "      <th>max</th>\n",
       "      <td>10713.000000</td>\n",
       "      <td>29.050000</td>\n",
       "      <td>754.430000</td>\n",
       "    </tr>\n",
       "  </tbody>\n",
       "</table>\n",
       "</div>"
      ],
      "text/plain": [
       "           Order ID       Price    Quantity\n",
       "count    254.000000  254.000000  254.000000\n",
       "mean   10584.133858    7.102323  460.611457\n",
       "std       75.889181    4.341855  214.888699\n",
       "min    10452.000000    2.950000  200.400000\n",
       "25%    10520.250000    3.490000  201.010000\n",
       "50%    10583.500000    4.990000  538.880000\n",
       "75%    10649.750000    9.950000  677.440000\n",
       "max    10713.000000   29.050000  754.430000"
      ]
     },
     "execution_count": 9,
     "metadata": {},
     "output_type": "execute_result"
    }
   ],
   "source": [
    "df.describe()"
   ]
  },
  {
   "cell_type": "code",
   "execution_count": 10,
   "id": "6dd1a9a4",
   "metadata": {},
   "outputs": [
    {
     "data": {
      "text/plain": [
       "Order ID          254\n",
       "Date               53\n",
       "Product             5\n",
       "Price               7\n",
       "Quantity           29\n",
       "Purchase Type       3\n",
       "Payment Method      3\n",
       "Manager            14\n",
       "City                5\n",
       "dtype: int64"
      ]
     },
     "execution_count": 10,
     "metadata": {},
     "output_type": "execute_result"
    }
   ],
   "source": [
    "df.nunique()"
   ]
  },
  {
   "cell_type": "code",
   "execution_count": 11,
   "id": "c00d82a9",
   "metadata": {},
   "outputs": [
    {
     "data": {
      "text/html": [
       "<div>\n",
       "<style scoped>\n",
       "    .dataframe tbody tr th:only-of-type {\n",
       "        vertical-align: middle;\n",
       "    }\n",
       "\n",
       "    .dataframe tbody tr th {\n",
       "        vertical-align: top;\n",
       "    }\n",
       "\n",
       "    .dataframe thead th {\n",
       "        text-align: right;\n",
       "    }\n",
       "</style>\n",
       "<table border=\"1\" class=\"dataframe\">\n",
       "  <thead>\n",
       "    <tr style=\"text-align: right;\">\n",
       "      <th></th>\n",
       "      <th>Order ID</th>\n",
       "      <th>Date</th>\n",
       "      <th>Product</th>\n",
       "      <th>Price</th>\n",
       "      <th>Quantity</th>\n",
       "      <th>Purchase Type</th>\n",
       "      <th>Payment Method</th>\n",
       "      <th>Manager</th>\n",
       "      <th>City</th>\n",
       "    </tr>\n",
       "  </thead>\n",
       "  <tbody>\n",
       "    <tr>\n",
       "      <th>0</th>\n",
       "      <td>10452</td>\n",
       "      <td>07-11-2022</td>\n",
       "      <td>Fries</td>\n",
       "      <td>3.49</td>\n",
       "      <td>573.07</td>\n",
       "      <td>Online</td>\n",
       "      <td>Gift Card</td>\n",
       "      <td>Tom      Jackson</td>\n",
       "      <td>London</td>\n",
       "    </tr>\n",
       "    <tr>\n",
       "      <th>1</th>\n",
       "      <td>10453</td>\n",
       "      <td>07-11-2022</td>\n",
       "      <td>Beverages</td>\n",
       "      <td>2.95</td>\n",
       "      <td>745.76</td>\n",
       "      <td>Online</td>\n",
       "      <td>Gift Card</td>\n",
       "      <td>Pablo Perez</td>\n",
       "      <td>Madrid</td>\n",
       "    </tr>\n",
       "    <tr>\n",
       "      <th>2</th>\n",
       "      <td>10454</td>\n",
       "      <td>07-11-2022</td>\n",
       "      <td>Sides &amp; Other</td>\n",
       "      <td>4.99</td>\n",
       "      <td>200.40</td>\n",
       "      <td>In-store</td>\n",
       "      <td>Gift Card</td>\n",
       "      <td>Joao    Silva</td>\n",
       "      <td>Lisbon</td>\n",
       "    </tr>\n",
       "    <tr>\n",
       "      <th>3</th>\n",
       "      <td>10455</td>\n",
       "      <td>08-11-2022</td>\n",
       "      <td>Burgers</td>\n",
       "      <td>12.99</td>\n",
       "      <td>569.67</td>\n",
       "      <td>In-store</td>\n",
       "      <td>Credit Card</td>\n",
       "      <td>Walter Muller</td>\n",
       "      <td>Berlin</td>\n",
       "    </tr>\n",
       "    <tr>\n",
       "      <th>4</th>\n",
       "      <td>10456</td>\n",
       "      <td>08-11-2022</td>\n",
       "      <td>Chicken Sandwiches</td>\n",
       "      <td>9.95</td>\n",
       "      <td>201.01</td>\n",
       "      <td>In-store</td>\n",
       "      <td>Credit Card</td>\n",
       "      <td>Walter Muller</td>\n",
       "      <td>Berlin</td>\n",
       "    </tr>\n",
       "  </tbody>\n",
       "</table>\n",
       "</div>"
      ],
      "text/plain": [
       "   Order ID        Date             Product  Price  Quantity Purchase Type  \\\n",
       "0     10452  07-11-2022               Fries   3.49    573.07       Online    \n",
       "1     10453  07-11-2022           Beverages   2.95    745.76       Online    \n",
       "2     10454  07-11-2022       Sides & Other   4.99    200.40     In-store    \n",
       "3     10455  08-11-2022             Burgers  12.99    569.67     In-store    \n",
       "4     10456  08-11-2022  Chicken Sandwiches   9.95    201.01     In-store    \n",
       "\n",
       "  Payment Method             Manager    City  \n",
       "0      Gift Card    Tom      Jackson  London  \n",
       "1      Gift Card         Pablo Perez  Madrid  \n",
       "2      Gift Card       Joao    Silva  Lisbon  \n",
       "3    Credit Card       Walter Muller  Berlin  \n",
       "4    Credit Card       Walter Muller  Berlin  "
      ]
     },
     "execution_count": 11,
     "metadata": {},
     "output_type": "execute_result"
    }
   ],
   "source": [
    "df.head()"
   ]
  },
  {
   "cell_type": "code",
   "execution_count": 12,
   "id": "dc7f8661",
   "metadata": {},
   "outputs": [
    {
     "data": {
      "text/plain": [
       "0        Tom      Jackson\n",
       "1             Pablo Perez\n",
       "2           Joao    Silva\n",
       "3           Walter Muller\n",
       "4           Walter Muller\n",
       "              ...        \n",
       "249         Walter Muller\n",
       "250         Walter Muller\n",
       "251         Walter Muller\n",
       "252         Walter Muller\n",
       "253         Walter Muller\n",
       "Name: Manager, Length: 254, dtype: object"
      ]
     },
     "execution_count": 12,
     "metadata": {},
     "output_type": "execute_result"
    }
   ],
   "source": [
    "df.Manager"
   ]
  },
  {
   "cell_type": "code",
   "execution_count": 13,
   "id": "90de7d21",
   "metadata": {},
   "outputs": [],
   "source": [
    "#Replaces multiple spaces (or tabs/newlines) inside the text with a single space.\n",
    "df['Manager'] = df['Manager'].str.strip().str.replace(r'\\s+', ' ', regex=True)"
   ]
  },
  {
   "cell_type": "code",
   "execution_count": 14,
   "id": "c289cce8",
   "metadata": {},
   "outputs": [
    {
     "data": {
      "text/plain": [
       "array(['Tom Jackson', 'Pablo Perez', 'Joao Silva', 'Walter Muller',\n",
       "       'Remy Monet'], dtype=object)"
      ]
     },
     "execution_count": 14,
     "metadata": {},
     "output_type": "execute_result"
    }
   ],
   "source": [
    "df['Manager'].unique()\n"
   ]
  },
  {
   "cell_type": "code",
   "execution_count": 15,
   "id": "e0ffa5c9",
   "metadata": {},
   "outputs": [
    {
     "data": {
      "text/plain": [
       "5"
      ]
     },
     "execution_count": 15,
     "metadata": {},
     "output_type": "execute_result"
    }
   ],
   "source": [
    "df['Manager'].nunique() \n"
   ]
  },
  {
   "cell_type": "code",
   "execution_count": 16,
   "id": "b4ff7c79",
   "metadata": {},
   "outputs": [
    {
     "data": {
      "text/plain": [
       "array(['Fries', 'Beverages', 'Sides & Other', 'Burgers',\n",
       "       'Chicken Sandwiches'], dtype=object)"
      ]
     },
     "execution_count": 16,
     "metadata": {},
     "output_type": "execute_result"
    }
   ],
   "source": [
    "df['Product'].unique()"
   ]
  },
  {
   "cell_type": "code",
   "execution_count": 17,
   "id": "a33bcaf3",
   "metadata": {},
   "outputs": [
    {
     "data": {
      "text/plain": [
       "array([ 3.49,  2.95,  4.99, 12.99,  9.95, 25.5 , 29.05])"
      ]
     },
     "execution_count": 17,
     "metadata": {},
     "output_type": "execute_result"
    }
   ],
   "source": [
    "df['Price'].unique()"
   ]
  },
  {
   "cell_type": "code",
   "execution_count": 18,
   "id": "feae3a2f",
   "metadata": {},
   "outputs": [
    {
     "data": {
      "text/plain": [
       "array(['Online ', 'In-store ', 'Drive-thru '], dtype=object)"
      ]
     },
     "execution_count": 18,
     "metadata": {},
     "output_type": "execute_result"
    }
   ],
   "source": [
    "df['Purchase Type'].unique()"
   ]
  },
  {
   "cell_type": "code",
   "execution_count": 19,
   "id": "00d31eb5",
   "metadata": {},
   "outputs": [
    {
     "data": {
      "text/plain": [
       "array([' Gift Card', ' Credit Card', ' Cash'], dtype=object)"
      ]
     },
     "execution_count": 19,
     "metadata": {},
     "output_type": "execute_result"
    }
   ],
   "source": [
    "df['Payment Method'].unique()"
   ]
  },
  {
   "cell_type": "code",
   "execution_count": 20,
   "id": "7db859a0",
   "metadata": {},
   "outputs": [
    {
     "data": {
      "text/plain": [
       "array(['London', 'Madrid', 'Lisbon', 'Berlin', 'Paris'], dtype=object)"
      ]
     },
     "execution_count": 20,
     "metadata": {},
     "output_type": "execute_result"
    }
   ],
   "source": [
    "df['City'].unique()"
   ]
  },
  {
   "cell_type": "code",
   "execution_count": 21,
   "id": "8d3f86a4",
   "metadata": {},
   "outputs": [
    {
     "data": {
      "text/plain": [
       "0      573\n",
       "1      745\n",
       "2      200\n",
       "3      569\n",
       "4      201\n",
       "      ... \n",
       "249    200\n",
       "250    754\n",
       "251    281\n",
       "252    630\n",
       "253    677\n",
       "Name: Quantity, Length: 254, dtype: int64"
      ]
     },
     "execution_count": 21,
     "metadata": {},
     "output_type": "execute_result"
    }
   ],
   "source": [
    "df.Quantity = df.Quantity.astype(int)\n",
    "df['Quantity']"
   ]
  },
  {
   "cell_type": "code",
   "execution_count": 22,
   "id": "d7f9d7c2",
   "metadata": {},
   "outputs": [
    {
     "data": {
      "text/html": [
       "<div>\n",
       "<style scoped>\n",
       "    .dataframe tbody tr th:only-of-type {\n",
       "        vertical-align: middle;\n",
       "    }\n",
       "\n",
       "    .dataframe tbody tr th {\n",
       "        vertical-align: top;\n",
       "    }\n",
       "\n",
       "    .dataframe thead th {\n",
       "        text-align: right;\n",
       "    }\n",
       "</style>\n",
       "<table border=\"1\" class=\"dataframe\">\n",
       "  <thead>\n",
       "    <tr style=\"text-align: right;\">\n",
       "      <th></th>\n",
       "      <th>Order ID</th>\n",
       "      <th>Date</th>\n",
       "      <th>Product</th>\n",
       "      <th>Price</th>\n",
       "      <th>Quantity</th>\n",
       "      <th>Purchase Type</th>\n",
       "      <th>Payment Method</th>\n",
       "      <th>Manager</th>\n",
       "      <th>City</th>\n",
       "    </tr>\n",
       "  </thead>\n",
       "  <tbody>\n",
       "    <tr>\n",
       "      <th>0</th>\n",
       "      <td>10452</td>\n",
       "      <td>07-11-2022</td>\n",
       "      <td>Fries</td>\n",
       "      <td>3.49</td>\n",
       "      <td>573</td>\n",
       "      <td>Online</td>\n",
       "      <td>Gift Card</td>\n",
       "      <td>Tom Jackson</td>\n",
       "      <td>London</td>\n",
       "    </tr>\n",
       "    <tr>\n",
       "      <th>1</th>\n",
       "      <td>10453</td>\n",
       "      <td>07-11-2022</td>\n",
       "      <td>Beverages</td>\n",
       "      <td>2.95</td>\n",
       "      <td>745</td>\n",
       "      <td>Online</td>\n",
       "      <td>Gift Card</td>\n",
       "      <td>Pablo Perez</td>\n",
       "      <td>Madrid</td>\n",
       "    </tr>\n",
       "    <tr>\n",
       "      <th>2</th>\n",
       "      <td>10454</td>\n",
       "      <td>07-11-2022</td>\n",
       "      <td>Sides &amp; Other</td>\n",
       "      <td>4.99</td>\n",
       "      <td>200</td>\n",
       "      <td>In-store</td>\n",
       "      <td>Gift Card</td>\n",
       "      <td>Joao Silva</td>\n",
       "      <td>Lisbon</td>\n",
       "    </tr>\n",
       "    <tr>\n",
       "      <th>3</th>\n",
       "      <td>10455</td>\n",
       "      <td>08-11-2022</td>\n",
       "      <td>Burgers</td>\n",
       "      <td>12.99</td>\n",
       "      <td>569</td>\n",
       "      <td>In-store</td>\n",
       "      <td>Credit Card</td>\n",
       "      <td>Walter Muller</td>\n",
       "      <td>Berlin</td>\n",
       "    </tr>\n",
       "    <tr>\n",
       "      <th>4</th>\n",
       "      <td>10456</td>\n",
       "      <td>08-11-2022</td>\n",
       "      <td>Chicken Sandwiches</td>\n",
       "      <td>9.95</td>\n",
       "      <td>201</td>\n",
       "      <td>In-store</td>\n",
       "      <td>Credit Card</td>\n",
       "      <td>Walter Muller</td>\n",
       "      <td>Berlin</td>\n",
       "    </tr>\n",
       "    <tr>\n",
       "      <th>...</th>\n",
       "      <td>...</td>\n",
       "      <td>...</td>\n",
       "      <td>...</td>\n",
       "      <td>...</td>\n",
       "      <td>...</td>\n",
       "      <td>...</td>\n",
       "      <td>...</td>\n",
       "      <td>...</td>\n",
       "      <td>...</td>\n",
       "    </tr>\n",
       "    <tr>\n",
       "      <th>249</th>\n",
       "      <td>10709</td>\n",
       "      <td>28-12-2022</td>\n",
       "      <td>Sides &amp; Other</td>\n",
       "      <td>4.99</td>\n",
       "      <td>200</td>\n",
       "      <td>Drive-thru</td>\n",
       "      <td>Gift Card</td>\n",
       "      <td>Walter Muller</td>\n",
       "      <td>Berlin</td>\n",
       "    </tr>\n",
       "    <tr>\n",
       "      <th>250</th>\n",
       "      <td>10710</td>\n",
       "      <td>29-12-2022</td>\n",
       "      <td>Burgers</td>\n",
       "      <td>12.99</td>\n",
       "      <td>754</td>\n",
       "      <td>Drive-thru</td>\n",
       "      <td>Gift Card</td>\n",
       "      <td>Walter Muller</td>\n",
       "      <td>Berlin</td>\n",
       "    </tr>\n",
       "    <tr>\n",
       "      <th>251</th>\n",
       "      <td>10711</td>\n",
       "      <td>29-12-2022</td>\n",
       "      <td>Chicken Sandwiches</td>\n",
       "      <td>9.95</td>\n",
       "      <td>281</td>\n",
       "      <td>Drive-thru</td>\n",
       "      <td>Gift Card</td>\n",
       "      <td>Walter Muller</td>\n",
       "      <td>Berlin</td>\n",
       "    </tr>\n",
       "    <tr>\n",
       "      <th>252</th>\n",
       "      <td>10712</td>\n",
       "      <td>29-12-2022</td>\n",
       "      <td>Fries</td>\n",
       "      <td>3.49</td>\n",
       "      <td>630</td>\n",
       "      <td>Drive-thru</td>\n",
       "      <td>Gift Card</td>\n",
       "      <td>Walter Muller</td>\n",
       "      <td>Berlin</td>\n",
       "    </tr>\n",
       "    <tr>\n",
       "      <th>253</th>\n",
       "      <td>10713</td>\n",
       "      <td>29-12-2022</td>\n",
       "      <td>Beverages</td>\n",
       "      <td>2.95</td>\n",
       "      <td>677</td>\n",
       "      <td>Drive-thru</td>\n",
       "      <td>Gift Card</td>\n",
       "      <td>Walter Muller</td>\n",
       "      <td>Berlin</td>\n",
       "    </tr>\n",
       "  </tbody>\n",
       "</table>\n",
       "<p>254 rows × 9 columns</p>\n",
       "</div>"
      ],
      "text/plain": [
       "     Order ID        Date             Product  Price  Quantity Purchase Type  \\\n",
       "0       10452  07-11-2022               Fries   3.49       573       Online    \n",
       "1       10453  07-11-2022           Beverages   2.95       745       Online    \n",
       "2       10454  07-11-2022       Sides & Other   4.99       200     In-store    \n",
       "3       10455  08-11-2022             Burgers  12.99       569     In-store    \n",
       "4       10456  08-11-2022  Chicken Sandwiches   9.95       201     In-store    \n",
       "..        ...         ...                 ...    ...       ...           ...   \n",
       "249     10709  28-12-2022       Sides & Other   4.99       200   Drive-thru    \n",
       "250     10710  29-12-2022             Burgers  12.99       754   Drive-thru    \n",
       "251     10711  29-12-2022  Chicken Sandwiches   9.95       281   Drive-thru    \n",
       "252     10712  29-12-2022               Fries   3.49       630   Drive-thru    \n",
       "253     10713  29-12-2022           Beverages   2.95       677   Drive-thru    \n",
       "\n",
       "    Payment Method        Manager    City  \n",
       "0        Gift Card    Tom Jackson  London  \n",
       "1        Gift Card    Pablo Perez  Madrid  \n",
       "2        Gift Card     Joao Silva  Lisbon  \n",
       "3      Credit Card  Walter Muller  Berlin  \n",
       "4      Credit Card  Walter Muller  Berlin  \n",
       "..             ...            ...     ...  \n",
       "249      Gift Card  Walter Muller  Berlin  \n",
       "250      Gift Card  Walter Muller  Berlin  \n",
       "251      Gift Card  Walter Muller  Berlin  \n",
       "252      Gift Card  Walter Muller  Berlin  \n",
       "253      Gift Card  Walter Muller  Berlin  \n",
       "\n",
       "[254 rows x 9 columns]"
      ]
     },
     "execution_count": 22,
     "metadata": {},
     "output_type": "execute_result"
    }
   ],
   "source": [
    "df"
   ]
  },
  {
   "cell_type": "code",
   "execution_count": 23,
   "id": "0bdce9fe",
   "metadata": {},
   "outputs": [
    {
     "data": {
      "text/html": [
       "<div>\n",
       "<style scoped>\n",
       "    .dataframe tbody tr th:only-of-type {\n",
       "        vertical-align: middle;\n",
       "    }\n",
       "\n",
       "    .dataframe tbody tr th {\n",
       "        vertical-align: top;\n",
       "    }\n",
       "\n",
       "    .dataframe thead th {\n",
       "        text-align: right;\n",
       "    }\n",
       "</style>\n",
       "<table border=\"1\" class=\"dataframe\">\n",
       "  <thead>\n",
       "    <tr style=\"text-align: right;\">\n",
       "      <th></th>\n",
       "      <th>Order ID</th>\n",
       "      <th>Date</th>\n",
       "      <th>Product</th>\n",
       "      <th>Price</th>\n",
       "      <th>Quantity</th>\n",
       "      <th>Purchase Type</th>\n",
       "      <th>Payment Method</th>\n",
       "      <th>Manager</th>\n",
       "      <th>City</th>\n",
       "      <th>Revenue</th>\n",
       "    </tr>\n",
       "  </thead>\n",
       "  <tbody>\n",
       "    <tr>\n",
       "      <th>0</th>\n",
       "      <td>10452</td>\n",
       "      <td>07-11-2022</td>\n",
       "      <td>Fries</td>\n",
       "      <td>3.49</td>\n",
       "      <td>573</td>\n",
       "      <td>Online</td>\n",
       "      <td>Gift Card</td>\n",
       "      <td>Tom Jackson</td>\n",
       "      <td>London</td>\n",
       "      <td>1999.77</td>\n",
       "    </tr>\n",
       "    <tr>\n",
       "      <th>1</th>\n",
       "      <td>10453</td>\n",
       "      <td>07-11-2022</td>\n",
       "      <td>Beverages</td>\n",
       "      <td>2.95</td>\n",
       "      <td>745</td>\n",
       "      <td>Online</td>\n",
       "      <td>Gift Card</td>\n",
       "      <td>Pablo Perez</td>\n",
       "      <td>Madrid</td>\n",
       "      <td>2197.75</td>\n",
       "    </tr>\n",
       "    <tr>\n",
       "      <th>2</th>\n",
       "      <td>10454</td>\n",
       "      <td>07-11-2022</td>\n",
       "      <td>Sides &amp; Other</td>\n",
       "      <td>4.99</td>\n",
       "      <td>200</td>\n",
       "      <td>In-store</td>\n",
       "      <td>Gift Card</td>\n",
       "      <td>Joao Silva</td>\n",
       "      <td>Lisbon</td>\n",
       "      <td>998.00</td>\n",
       "    </tr>\n",
       "    <tr>\n",
       "      <th>3</th>\n",
       "      <td>10455</td>\n",
       "      <td>08-11-2022</td>\n",
       "      <td>Burgers</td>\n",
       "      <td>12.99</td>\n",
       "      <td>569</td>\n",
       "      <td>In-store</td>\n",
       "      <td>Credit Card</td>\n",
       "      <td>Walter Muller</td>\n",
       "      <td>Berlin</td>\n",
       "      <td>7391.31</td>\n",
       "    </tr>\n",
       "    <tr>\n",
       "      <th>4</th>\n",
       "      <td>10456</td>\n",
       "      <td>08-11-2022</td>\n",
       "      <td>Chicken Sandwiches</td>\n",
       "      <td>9.95</td>\n",
       "      <td>201</td>\n",
       "      <td>In-store</td>\n",
       "      <td>Credit Card</td>\n",
       "      <td>Walter Muller</td>\n",
       "      <td>Berlin</td>\n",
       "      <td>1999.95</td>\n",
       "    </tr>\n",
       "    <tr>\n",
       "      <th>...</th>\n",
       "      <td>...</td>\n",
       "      <td>...</td>\n",
       "      <td>...</td>\n",
       "      <td>...</td>\n",
       "      <td>...</td>\n",
       "      <td>...</td>\n",
       "      <td>...</td>\n",
       "      <td>...</td>\n",
       "      <td>...</td>\n",
       "      <td>...</td>\n",
       "    </tr>\n",
       "    <tr>\n",
       "      <th>249</th>\n",
       "      <td>10709</td>\n",
       "      <td>28-12-2022</td>\n",
       "      <td>Sides &amp; Other</td>\n",
       "      <td>4.99</td>\n",
       "      <td>200</td>\n",
       "      <td>Drive-thru</td>\n",
       "      <td>Gift Card</td>\n",
       "      <td>Walter Muller</td>\n",
       "      <td>Berlin</td>\n",
       "      <td>998.00</td>\n",
       "    </tr>\n",
       "    <tr>\n",
       "      <th>250</th>\n",
       "      <td>10710</td>\n",
       "      <td>29-12-2022</td>\n",
       "      <td>Burgers</td>\n",
       "      <td>12.99</td>\n",
       "      <td>754</td>\n",
       "      <td>Drive-thru</td>\n",
       "      <td>Gift Card</td>\n",
       "      <td>Walter Muller</td>\n",
       "      <td>Berlin</td>\n",
       "      <td>9794.46</td>\n",
       "    </tr>\n",
       "    <tr>\n",
       "      <th>251</th>\n",
       "      <td>10711</td>\n",
       "      <td>29-12-2022</td>\n",
       "      <td>Chicken Sandwiches</td>\n",
       "      <td>9.95</td>\n",
       "      <td>281</td>\n",
       "      <td>Drive-thru</td>\n",
       "      <td>Gift Card</td>\n",
       "      <td>Walter Muller</td>\n",
       "      <td>Berlin</td>\n",
       "      <td>2795.95</td>\n",
       "    </tr>\n",
       "    <tr>\n",
       "      <th>252</th>\n",
       "      <td>10712</td>\n",
       "      <td>29-12-2022</td>\n",
       "      <td>Fries</td>\n",
       "      <td>3.49</td>\n",
       "      <td>630</td>\n",
       "      <td>Drive-thru</td>\n",
       "      <td>Gift Card</td>\n",
       "      <td>Walter Muller</td>\n",
       "      <td>Berlin</td>\n",
       "      <td>2198.70</td>\n",
       "    </tr>\n",
       "    <tr>\n",
       "      <th>253</th>\n",
       "      <td>10713</td>\n",
       "      <td>29-12-2022</td>\n",
       "      <td>Beverages</td>\n",
       "      <td>2.95</td>\n",
       "      <td>677</td>\n",
       "      <td>Drive-thru</td>\n",
       "      <td>Gift Card</td>\n",
       "      <td>Walter Muller</td>\n",
       "      <td>Berlin</td>\n",
       "      <td>1997.15</td>\n",
       "    </tr>\n",
       "  </tbody>\n",
       "</table>\n",
       "<p>254 rows × 10 columns</p>\n",
       "</div>"
      ],
      "text/plain": [
       "     Order ID        Date             Product  Price  Quantity Purchase Type  \\\n",
       "0       10452  07-11-2022               Fries   3.49       573       Online    \n",
       "1       10453  07-11-2022           Beverages   2.95       745       Online    \n",
       "2       10454  07-11-2022       Sides & Other   4.99       200     In-store    \n",
       "3       10455  08-11-2022             Burgers  12.99       569     In-store    \n",
       "4       10456  08-11-2022  Chicken Sandwiches   9.95       201     In-store    \n",
       "..        ...         ...                 ...    ...       ...           ...   \n",
       "249     10709  28-12-2022       Sides & Other   4.99       200   Drive-thru    \n",
       "250     10710  29-12-2022             Burgers  12.99       754   Drive-thru    \n",
       "251     10711  29-12-2022  Chicken Sandwiches   9.95       281   Drive-thru    \n",
       "252     10712  29-12-2022               Fries   3.49       630   Drive-thru    \n",
       "253     10713  29-12-2022           Beverages   2.95       677   Drive-thru    \n",
       "\n",
       "    Payment Method        Manager    City  Revenue  \n",
       "0        Gift Card    Tom Jackson  London  1999.77  \n",
       "1        Gift Card    Pablo Perez  Madrid  2197.75  \n",
       "2        Gift Card     Joao Silva  Lisbon   998.00  \n",
       "3      Credit Card  Walter Muller  Berlin  7391.31  \n",
       "4      Credit Card  Walter Muller  Berlin  1999.95  \n",
       "..             ...            ...     ...      ...  \n",
       "249      Gift Card  Walter Muller  Berlin   998.00  \n",
       "250      Gift Card  Walter Muller  Berlin  9794.46  \n",
       "251      Gift Card  Walter Muller  Berlin  2795.95  \n",
       "252      Gift Card  Walter Muller  Berlin  2198.70  \n",
       "253      Gift Card  Walter Muller  Berlin  1997.15  \n",
       "\n",
       "[254 rows x 10 columns]"
      ]
     },
     "execution_count": 23,
     "metadata": {},
     "output_type": "execute_result"
    }
   ],
   "source": [
    "#Revenue = the total money a business earns from selling its goods or services\n",
    "df['Revenue'] = df['Price'] * df['Quantity']\n",
    "df"
   ]
  },
  {
   "cell_type": "code",
   "execution_count": 24,
   "id": "d693a9dd",
   "metadata": {},
   "outputs": [
    {
     "data": {
      "image/png": "[encoded data removed]",
      "text/plain": [
       "<Figure size 1000x600 with 1 Axes>"
      ]
     },
     "metadata": {},
     "output_type": "display_data"
    }
   ],
   "source": [
    "#Bar Chart of Revenue by Product\n",
    "import matplotlib.pyplot as plt\n",
    "product_revenue = df.groupby('Product')['Revenue'].sum().sort_values(ascending=False)\n",
    "\n",
    "plt.figure(figsize=(10,6))\n",
    "product_revenue.plot(kind='bar', color='orange')\n",
    "plt.title(\"Revenue by Product (High to Low)\")\n",
    "plt.xlabel(\"Product\")\n",
    "plt.ylabel(\"Total Revenue\")\n",
    "plt.xticks(rotation=45)\n",
    "plt.tight_layout()\n",
    "plt.show()\n"
   ]
  },
  {
   "cell_type": "code",
   "execution_count": 25,
   "id": "327fe506",
   "metadata": {},
   "outputs": [
    {
     "data": {
      "text/plain": [
       "' Credit Card'"
      ]
     },
     "execution_count": 25,
     "metadata": {},
     "output_type": "execute_result"
    }
   ],
   "source": [
    "# Most Preferred Payment Method\n",
    "h=df['Payment Method'].value_counts().idxmax()\n",
    "h\n"
   ]
  },
  {
   "cell_type": "code",
   "execution_count": 27,
   "id": "57915807",
   "metadata": {},
   "outputs": [
    {
     "data": {
      "text/plain": [
       "'Online '"
      ]
     },
     "execution_count": 27,
     "metadata": {},
     "output_type": "execute_result"
    }
   ],
   "source": [
    "p=df['Purchase Type'].value_counts().idxmax()\n",
    "p"
   ]
  },
  {
   "cell_type": "code",
   "execution_count": 29,
   "id": "aa7835da",
   "metadata": {},
   "outputs": [
    {
     "data": {
      "text/plain": [
       "'Beverages'"
      ]
     },
     "execution_count": 29,
     "metadata": {},
     "output_type": "execute_result"
    }
   ],
   "source": [
    "#Most Selling Product - By Quantity & By Revenue\n",
    "product_by_qty = df.groupby('Product')['Quantity'].sum().idxmax()\n",
    "product_by_qty\n"
   ]
  },
  {
   "cell_type": "code",
   "execution_count": null,
   "id": "19c2583a",
   "metadata": {},
   "outputs": [
    {
     "data": {
      "text/plain": [
       "'Burgers'"
      ]
     },
     "execution_count": 73,
     "metadata": {},
     "output_type": "execute_result"
    }
   ],
   "source": [
    "product_by_rev = df.groupby('Product')['Revenue'].sum().idxmax()\n",
    "product_by_rev "
   ]
  },
  {
   "cell_type": "code",
   "execution_count": null,
   "id": "d76d534e",
   "metadata": {},
   "outputs": [
    {
     "name": "stdout",
     "output_type": "stream",
     "text": [
      "Manager\n",
      "Joao Silva       241509.38\n",
      "Tom Jackson      211001.83\n",
      "Pablo Perez      136098.22\n",
      "Walter Muller    100492.73\n",
      "Remy Monet        79729.62\n",
      "Name: Revenue, dtype: float64\n"
     ]
    }
   ],
   "source": [
    "manager_revenue = df.groupby('Manager')['Revenue'].sum().sort_values(ascending=False)\n",
    "print(manager_revenue)\n"
   ]
  },
  {
   "cell_type": "code",
   "execution_count": null,
   "id": "8bd0f5e6",
   "metadata": {},
   "outputs": [
    {
     "data": {
      "image/png": "[encoded data removed]",
      "text/plain": [
       "<Figure size 800x500 with 1 Axes>"
      ]
     },
     "metadata": {},
     "output_type": "display_data"
    }
   ],
   "source": [
    "manager_revenue.plot(kind='bar', figsize=(8,5), color='green')\n",
    "plt.title(\"Revenue by Manager (High to Low)\")\n",
    "plt.xlabel(\"Manager\")\n",
    "plt.ylabel(\"Total Revenue\")\n",
    "plt.xticks(rotation=45)\n",
    "plt.show()\n"
   ]
  },
  {
   "cell_type": "code",
   "execution_count": null,
   "id": "358b7bd5",
   "metadata": {},
   "outputs": [
    {
     "name": "stdout",
     "output_type": "stream",
     "text": [
      "City\n",
      "Lisbon    241509.38\n",
      "London    211001.83\n",
      "Madrid    136098.22\n",
      "Berlin    100492.73\n",
      "Paris      79729.62\n",
      "Name: Revenue, dtype: float64\n"
     ]
    }
   ],
   "source": [
    "\n",
    "city_revenue = df.groupby('City')['Revenue'].sum().sort_values(ascending=False)\n",
    "\n",
    "\n",
    "print(city_revenue)\n"
   ]
  },
  {
   "cell_type": "code",
   "execution_count": null,
   "id": "3c424a32",
   "metadata": {},
   "outputs": [
    {
     "data": {
      "image/png": "[encoded data removed]",
      "text/plain": [
       "<Figure size 800x500 with 1 Axes>"
      ]
     },
     "metadata": {},
     "output_type": "display_data"
    }
   ],
   "source": [
    "import matplotlib.pyplot as plt\n",
    "\n",
    "city_revenue.plot(kind='bar', figsize=(8,5), color='purple')\n",
    "plt.title(\"Revenue by City (High to Low)\")\n",
    "plt.xlabel(\"City\")\n",
    "plt.ylabel(\"Total Revenue\")\n",
    "plt.xticks(rotation=45)\n",
    "plt.tight_layout()\n",
    "plt.show()\n"
   ]
  },
  {
   "cell_type": "code",
   "execution_count": null,
   "id": "12386c60",
   "metadata": {},
   "outputs": [
    {
     "name": "stdout",
     "output_type": "stream",
     "text": [
      "Purchase Type\n",
      "Drive-thru     178422.12\n",
      "In-store       285491.09\n",
      "Online         304918.57\n",
      "Name: Sales, dtype: float64\n"
     ]
    },
    {
     "data": {
      "image/png": "[encoded data removed]",
      "text/plain": [
       "<Figure size 640x480 with 1 Axes>"
      ]
     },
     "metadata": {},
     "output_type": "display_data"
    }
   ],
   "source": [
    "#Compare Purchase amount based on type\n",
    "df['Sales'] = df['Price'] * df['Quantity']\n",
    "purchase_type_sales = df.groupby('Purchase Type')['Sales'].sum()\n",
    "print(purchase_type_sales)\n",
    "\n",
    "purchase_type_sales.plot(kind='bar')\n",
    "plt.xlabel('Purchase Type')\n",
    "plt.ylabel('Total Sales')\n",
    "plt.title('Sales by Purchase Type (In - store vs Online)')\n",
    "plt.show()"
   ]
  },
  {
   "cell_type": "code",
   "execution_count": null,
   "id": "f4edc2fa",
   "metadata": {},
   "outputs": [
    {
     "name": "stdout",
     "output_type": "stream",
     "text": [
      "Top spender (by quantity): 10710\n"
     ]
    }
   ],
   "source": [
    "# Group by Order ID and sum quantities#10710\t29-12-2022\tBurgers\t12.99\t754.43\t\n",
    "\n",
    "top_order_id_by_qty = df.groupby('Order ID')['Quantity'].sum().idxmax()\n",
    "\n",
    "print(f\"Top spender (by quantity): {top_order_id_by_qty}\")\n"
   ]
  },
  {
   "cell_type": "code",
   "execution_count": null,
   "id": "51cd3ea3",
   "metadata": {},
   "outputs": [
    {
     "name": "stdout",
     "output_type": "stream",
     "text": [
      "Date\n",
      "01-12-2022    13385.95\n",
      "02-12-2022    13987.57\n",
      "03-12-2022    13987.57\n",
      "04-12-2022     8988.57\n",
      "05-12-2022    14191.33\n",
      "06-12-2022    13983.49\n",
      "07-11-2022     5195.52\n",
      "07-12-2022    13987.57\n",
      "08-11-2022    12389.03\n",
      "08-12-2022    14182.42\n",
      "09-11-2022    14191.33\n",
      "09-12-2022    14585.11\n",
      "10-11-2022    13193.33\n",
      "10-12-2022    14585.11\n",
      "11-11-2022    14390.26\n",
      "11-12-2022    14993.55\n",
      "12-11-2022    13987.57\n",
      "12-12-2022    14585.11\n",
      "13-11-2022    27659.02\n",
      "13-12-2022    14585.11\n",
      "14-11-2022    17826.67\n",
      "14-12-2022    14589.26\n",
      "15-11-2022    13593.79\n",
      "15-12-2022    14381.42\n",
      "16-11-2022    13593.79\n",
      "16-12-2022    14984.71\n",
      "17-11-2022    13987.57\n",
      "17-12-2022    15391.48\n",
      "18-11-2022    14381.35\n",
      "18-12-2022    15586.33\n",
      "19-11-2022    13991.65\n",
      "19-12-2022    15790.09\n",
      "20-11-2022     8196.18\n",
      "20-12-2022    15984.94\n",
      "21-11-2022    13984.41\n",
      "21-12-2022    16387.63\n",
      "22-11-2022    13581.72\n",
      "22-12-2022    16586.63\n",
      "23-11-2022    13789.56\n",
      "23-12-2022    15983.34\n",
      "24-11-2022    13590.63\n",
      "24-12-2022    16386.03\n",
      "25-11-2022    13382.79\n",
      "25-12-2022    16585.03\n",
      "26-11-2022    13187.94\n",
      "26-12-2022    16978.88\n",
      "27-11-2022    13382.79\n",
      "27-12-2022    16978.88\n",
      "28-11-2022    13390.03\n",
      "28-12-2022    17580.57\n",
      "29-11-2022    13390.03\n",
      "29-12-2022    16786.26\n",
      "30-11-2022    13584.88\n",
      "Name: Revenue, dtype: float64\n"
     ]
    }
   ],
   "source": [
    "#Q Date wise revenue.\n",
    "date_revenue = df.groupby('Date')['Revenue'].sum()\n",
    "print(date_revenue)"
   ]
  },
  {
   "cell_type": "code",
   "execution_count": null,
   "id": "dafebb98",
   "metadata": {},
   "outputs": [
    {
     "data": {
      "image/png": "[encoded data removed]",
      "text/plain": [
       "<Figure size 1200x500 with 1 Axes>"
      ]
     },
     "metadata": {},
     "output_type": "display_data"
    }
   ],
   "source": [
    "#plotting graphs\n",
    "plt.figure(figsize=(12, 5))\n",
    "plt.plot(date_revenue.index, date_revenue.values)\n",
    "plt.title(\"Date-wise Revenue\")\n",
    "plt.xlabel(\"Date\")\n",
    "plt.ylabel(\"Revenue\")\n",
    "plt.xticks(rotation=90)\n",
    "plt.grid(True)\n",
    "plt.tight_layout()\n",
    "plt.show()"
   ]
  },
  {
   "cell_type": "code",
   "execution_count": null,
   "id": "74be26bf",
   "metadata": {},
   "outputs": [],
   "source": [
    "\n",
    "#Arrival time/date (can extract hour of day, weekday vs. weekend, seasonality)\n",
    "#Age \n",
    "#Gender\n",
    "#Weekday, Is_Weekend, Season to your dataset."
   ]
  },
  {
   "cell_type": "code",
   "execution_count": null,
   "id": "e840cde4",
   "metadata": {},
   "outputs": [
    {
     "data": {
      "text/plain": [
       "0      56\n",
       "1      69\n",
       "2      46\n",
       "3      32\n",
       "4      60\n",
       "       ..\n",
       "249    21\n",
       "250    28\n",
       "251    34\n",
       "252    55\n",
       "253    41\n",
       "Name: Age, Length: 254, dtype: int32"
      ]
     },
     "execution_count": 91,
     "metadata": {},
     "output_type": "execute_result"
    }
   ],
   "source": [
    "import numpy as  np\n",
    "import pandas as pd\n",
    "np.random.seed(42)  #\n",
    "df[\"Age\"] = np.random.randint(18, 71, size=len(df))\n",
    "df['Age']"
   ]
  },
  {
   "cell_type": "code",
   "execution_count": null,
   "id": "5ef43981",
   "metadata": {},
   "outputs": [
    {
     "data": {
      "text/plain": [
       "0      Female\n",
       "1        Male\n",
       "2      Female\n",
       "3      Female\n",
       "4      Female\n",
       "        ...  \n",
       "249    Female\n",
       "250    Female\n",
       "251      Male\n",
       "252    Female\n",
       "253      Male\n",
       "Name: Gender, Length: 254, dtype: object"
      ]
     },
     "execution_count": 93,
     "metadata": {},
     "output_type": "execute_result"
    }
   ],
   "source": [
    "df[\"Gender\"] = np.random.choice([\"Male\", \"Female\"], size=len(df))\n",
    "df['Gender']"
   ]
  },
  {
   "cell_type": "code",
   "execution_count": null,
   "id": "689a9c66",
   "metadata": {},
   "outputs": [
    {
     "name": "stderr",
     "output_type": "stream",
     "text": [
      "C:\\Users\\yuvas\\AppData\\Local\\Temp\\ipykernel_22504\\4084866273.py:15: FutureWarning: The default of observed=False is deprecated and will be changed to True in a future version of pandas. Pass observed=False to retain current behavior or observed=True to adopt the future default and silence this warning.\n",
      "  age_gender_counts = df.groupby(['Age_Group', 'Gender']).size().unstack()\n"
     ]
    },
    {
     "data": {
      "image/png": "[encoded data removed]",
      "text/plain": [
       "<Figure size 1000x600 with 1 Axes>"
      ]
     },
     "metadata": {},
     "output_type": "display_data"
    }
   ],
   "source": [
    "import pandas as pd\n",
    "import numpy as np\n",
    "import matplotlib.pyplot as plt\n",
    "\n",
    "# Example: assume you already have df with \"Age\" and \"Gender\"\n",
    "\n",
    "# Define bins (age groups) and labels\n",
    "bins = [0, 18, 30, 45, 60, 80]\n",
    "labels = ['<18', '18-30', '31-45', '46-60', '60+']\n",
    "\n",
    "# Create Age Groups column\n",
    "df['Age_Group'] = pd.cut(df['Age'], bins=bins, labels=labels, right=False)\n",
    "\n",
    "# Count purchases by Age Group and Gender\n",
    "age_gender_counts = df.groupby(['Age_Group', 'Gender']).size().unstack()\n",
    "\n",
    "# Plot bar chart\n",
    "age_gender_counts.plot(kind='bar', figsize=(10,6))\n",
    "\n",
    "plt.title(\"Purchases by Age Group and Gender\")\n",
    "plt.xlabel(\"Age Group\")\n",
    "plt.ylabel(\"Number of Purchases\")\n",
    "plt.legend(title=\"Gender\")\n",
    "plt.xticks(rotation=0)\n",
    "plt.show()\n"
   ]
  },
  {
   "cell_type": "code",
   "execution_count": 34,
   "id": "4433bd91",
   "metadata": {},
   "outputs": [
    {
     "data": {
      "text/plain": [
       "0     2022-11-07\n",
       "1     2022-11-07\n",
       "2     2022-11-07\n",
       "3     2022-11-08\n",
       "4     2022-11-08\n",
       "         ...    \n",
       "249   2022-12-28\n",
       "250   2022-12-29\n",
       "251   2022-12-29\n",
       "252   2022-12-29\n",
       "253   2022-12-29\n",
       "Name: Date, Length: 254, dtype: datetime64[ns]"
      ]
     },
     "execution_count": 34,
     "metadata": {},
     "output_type": "execute_result"
    }
   ],
   "source": [
    "# Convert Date column to datetime (format = day-month-year)\n",
    "df['Date'] = pd.to_datetime(df['Date'], format='%d-%m-%Y', errors='coerce')\n",
    "df['Date']\n"
   ]
  },
  {
   "cell_type": "code",
   "execution_count": 35,
   "id": "fede6d51",
   "metadata": {},
   "outputs": [
    {
     "data": {
      "text/plain": [
       "0         Monday\n",
       "1         Monday\n",
       "2         Monday\n",
       "3        Tuesday\n",
       "4        Tuesday\n",
       "         ...    \n",
       "249    Wednesday\n",
       "250     Thursday\n",
       "251     Thursday\n",
       "252     Thursday\n",
       "253     Thursday\n",
       "Name: Weekday, Length: 254, dtype: object"
      ]
     },
     "execution_count": 35,
     "metadata": {},
     "output_type": "execute_result"
    }
   ],
   "source": [
    "# Now add Weekday and Is_Weekend\n",
    "df['Weekday'] = df['Date'].dt.day_name()\n",
    "df['Weekday']\n"
   ]
  },
  {
   "cell_type": "code",
   "execution_count": 36,
   "id": "9d5128db",
   "metadata": {},
   "outputs": [
    {
     "data": {
      "text/plain": [
       "0      False\n",
       "1      False\n",
       "2      False\n",
       "3      False\n",
       "4      False\n",
       "       ...  \n",
       "249    False\n",
       "250    False\n",
       "251    False\n",
       "252    False\n",
       "253    False\n",
       "Name: Is_Weekend, Length: 254, dtype: bool"
      ]
     },
     "execution_count": 36,
     "metadata": {},
     "output_type": "execute_result"
    }
   ],
   "source": [
    "df['Is_Weekend'] = df['Weekday'].isin(['Saturday', 'Sunday'])\n",
    "df['Is_Weekend']"
   ]
  },
  {
   "cell_type": "code",
   "execution_count": 40,
   "id": "138c6218",
   "metadata": {},
   "outputs": [
    {
     "data": {
      "image/png": "[encoded data removed]",
      "text/plain": [
       "<Figure size 600x500 with 1 Axes>"
      ]
     },
     "metadata": {},
     "output_type": "display_data"
    }
   ],
   "source": [
    "weekend_revenue = df.groupby('Is_Weekend')['Revenue'].sum()\n",
    "\n",
    "plt.figure(figsize=(6,5))\n",
    "weekend_revenue.plot(kind='bar', color=['green','red'])\n",
    "plt.title(\"Revenue: Weekend vs Weekday\")\n",
    "plt.xlabel(\"Is Weekend?\")\n",
    "plt.ylabel(\"Revenue\")\n",
    "plt.xticks([0,1], ['Weekday','Weekend'], rotation=0)\n",
    "plt.tight_layout()\n",
    "plt.show()\n"
   ]
  }
 ],
 "metadata": {
  "kernelspec": {
   "display_name": "Python 3",
   "language": "python",
   "name": "python3"
  },
  "language_info": {
   "codemirror_mode": {
    "name": "ipython",
    "version": 3
   },
   "file_extension": ".py",
   "mimetype": "text/x-python",
   "name": "python",
   "nbconvert_exporter": "python",
   "pygments_lexer": "ipython3",
   "version": "3.12.0"
  }
 },
 "nbformat": 4,
 "nbformat_minor": 5
}
